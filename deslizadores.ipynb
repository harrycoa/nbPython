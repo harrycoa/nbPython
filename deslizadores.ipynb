{
 "cells": [
  {
   "cell_type": "code",
   "execution_count": 1,
   "metadata": {},
   "outputs": [
    {
     "name": "stdout",
     "output_type": "stream",
     "text": [
      "En la posicion 3: D\n",
      "En la posicion 3: H\n"
     ]
    }
   ],
   "source": [
    "\n",
    "#           0,  1, 2, 3, 4, 5\n",
    "letters = ['A', 'B', 'C', 'D', 'E', 'F', 'G', 'H', 'I', 'J', 'K', 'L']\n",
    "#           -10,-9,-8,-7,-6,-5\n",
    "\n",
    "print('En la posicion 3:', letters[3])\n",
    "print('En la posicion 3:', letters[-5])"
   ]
  },
  {
   "cell_type": "code",
   "execution_count": 2,
   "metadata": {},
   "outputs": [
    {
     "name": "stdout",
     "output_type": "stream",
     "text": [
      "Completa:  ['A', 'B', 'C', 'D', 'E', 'F', 'G', 'H', 'I', 'J', 'K', 'L']\n"
     ]
    }
   ],
   "source": [
    "## Slices\n",
    "# Sublist = list[start:end:step]\n",
    "print('Completa: ', letters[:])"
   ]
  },
  {
   "cell_type": "code",
   "execution_count": 3,
   "metadata": {},
   "outputs": [
    {
     "name": "stdout",
     "output_type": "stream",
     "text": [
      "los 3 primeros:  ['A', 'B', 'C']\n"
     ]
    }
   ],
   "source": [
    "print('los 3 primeros: ', letters[:3])"
   ]
  },
  {
   "cell_type": "code",
   "execution_count": 4,
   "metadata": {},
   "outputs": [
    {
     "name": "stdout",
     "output_type": "stream",
     "text": [
      "Todo menos los 4 ultimos:  ['A', 'B', 'C', 'D', 'E', 'F', 'G', 'H']\n"
     ]
    }
   ],
   "source": [
    "print('Todo menos los 4 ultimos: ', letters[:-4])"
   ]
  },
  {
   "cell_type": "code",
   "execution_count": 5,
   "metadata": {},
   "outputs": [
    {
     "name": "stdout",
     "output_type": "stream",
     "text": [
      "desde la posicion 4:  ['E', 'F', 'G', 'H', 'I', 'J', 'K', 'L']\n"
     ]
    }
   ],
   "source": [
    "print('desde la posicion 4: ', letters[4:])"
   ]
  },
  {
   "cell_type": "code",
   "execution_count": 6,
   "metadata": {},
   "outputs": [
    {
     "name": "stdout",
     "output_type": "stream",
     "text": [
      "los 5 ultimos:  ['H', 'I', 'J', 'K', 'L']\n"
     ]
    }
   ],
   "source": [
    "print('los 5 ultimos: ', letters[-5:])"
   ]
  },
  {
   "cell_type": "code",
   "execution_count": 7,
   "metadata": {},
   "outputs": [
    {
     "name": "stdout",
     "output_type": "stream",
     "text": [
      "Desde hasta:  ['B', 'C']\n"
     ]
    }
   ],
   "source": [
    "print('Desde hasta: ', letters[1:3])"
   ]
  },
  {
   "cell_type": "code",
   "execution_count": 8,
   "metadata": {},
   "outputs": [
    {
     "name": "stdout",
     "output_type": "stream",
     "text": [
      "desde 3 hasta el penultimo:  ['D', 'E', 'F', 'G', 'H', 'I', 'J', 'K']\n"
     ]
    }
   ],
   "source": [
    "print('desde 3 hasta el penultimo: ', letters[3:-1])"
   ]
  },
  {
   "cell_type": "code",
   "execution_count": 9,
   "metadata": {},
   "outputs": [
    {
     "name": "stdout",
     "output_type": "stream",
     "text": [
      "de los 5 ultimos hasta el penultimo:  ['H', 'I', 'J', 'K']\n"
     ]
    }
   ],
   "source": [
    "print('de los 5 ultimos hasta el penultimo: ', letters[-5:-1])"
   ]
  }
 ],
 "metadata": {
  "kernelspec": {
   "display_name": "Python 3.10.0 64-bit",
   "language": "python",
   "name": "python3"
  },
  "language_info": {
   "codemirror_mode": {
    "name": "ipython",
    "version": 3
   },
   "file_extension": ".py",
   "mimetype": "text/x-python",
   "name": "python",
   "nbconvert_exporter": "python",
   "pygments_lexer": "ipython3",
   "version": "3.10.0"
  },
  "orig_nbformat": 4,
  "vscode": {
   "interpreter": {
    "hash": "369f2c481f4da34e4445cda3fffd2e751bd1c4d706f27375911949ba6bb62e1c"
   }
  }
 },
 "nbformat": 4,
 "nbformat_minor": 2
}
